{
 "cells": [
  {
   "cell_type": "code",
   "execution_count": 50,
   "metadata": {
    "collapsed": false
   },
   "outputs": [],
   "source": [
    "import numpy as np"
   ]
  },
  {
   "cell_type": "code",
   "execution_count": 51,
   "metadata": {
    "collapsed": false
   },
   "outputs": [],
   "source": [
    "f = open ( 'x.txt' , 'r')\n",
    "l=[ map(float,line.split('\\t')) for line in f ]\n",
    "x = np.array( l[1:] )"
   ]
  },
  {
   "cell_type": "code",
   "execution_count": 52,
   "metadata": {
    "collapsed": false
   },
   "outputs": [],
   "source": [
    "f = open ( 'b.txt' , 'r')\n",
    "l=[ map(float,line.split('\\t')) for line in f ] \n",
    "b = np.array( l[1:])"
   ]
  },
  {
   "cell_type": "code",
   "execution_count": 53,
   "metadata": {
    "collapsed": false
   },
   "outputs": [],
   "source": [
    "f = open ( 'A.txt' , 'r')\n",
    "l=[ map(float,line.split('\\t')) for line in f ]\n",
    "n=int(l[0][0])\n",
    "A=np.reshape(np.array( l[1:] ) ,(n,n)).transpose()\n"
   ]
  },
  {
   "cell_type": "code",
   "execution_count": 54,
   "metadata": {
    "collapsed": false
   },
   "outputs": [
    {
     "data": {
      "text/plain": [
       "(527, 527)"
      ]
     },
     "execution_count": 54,
     "metadata": {},
     "output_type": "execute_result"
    }
   ],
   "source": [
    "A.shape"
   ]
  },
  {
   "cell_type": "code",
   "execution_count": 55,
   "metadata": {
    "collapsed": false
   },
   "outputs": [
    {
     "name": "stdout",
     "output_type": "stream",
     "text": [
      "std: [ 0.00060967]\n",
      "std: [ 0.00060967]\n",
      "std: [ 0.00060967]\n",
      "1 loop, best of 3: 2.57 ms per loop\n"
     ]
    }
   ],
   "source": [
    "%%timeit -n1\n",
    "_x = np.linalg.solve(A, b)\n",
    "print \"std: %s\"%np.std(x-_x, axis=0)"
   ]
  },
  {
   "cell_type": "code",
   "execution_count": 56,
   "metadata": {
    "collapsed": true
   },
   "outputs": [],
   "source": [
    "import tensorflow as tf"
   ]
  },
  {
   "cell_type": "code",
   "execution_count": 57,
   "metadata": {
    "collapsed": false
   },
   "outputs": [
    {
     "name": "stdout",
     "output_type": "stream",
     "text": [
      "std: [ 0.00060803]\n",
      "std: [ 0.00060803]\n",
      "std: [ 0.00060803]\n",
      "1 loop, best of 3: 70.8 ms per loop\n"
     ]
    }
   ],
   "source": [
    "%%timeit -n1\n",
    "with tf.device('/gpu:0'):\n",
    "    tf_A=tf.placeholder(tf.float32, [527, 527])\n",
    "    tf_b=tf.placeholder(tf.float32, [527, 1])\n",
    "    \n",
    "with tf.Session() as session:\n",
    "    tf_x=session.run( tf.matrix_solve(tf_A, tf_b), {tf_A: A,tf_b: b} )\n",
    "print \"std: %s\"%np.std(x-tf_x, axis=0)"
   ]
  },
  {
   "cell_type": "code",
   "execution_count": null,
   "metadata": {
    "collapsed": true
   },
   "outputs": [],
   "source": []
  }
 ],
 "metadata": {
  "anaconda-cloud": {},
  "kernelspec": {
   "display_name": "Python [conda env:tensorflow]",
   "language": "python",
   "name": "conda-env-tensorflow-py"
  },
  "language_info": {
   "codemirror_mode": {
    "name": "ipython",
    "version": 2
   },
   "file_extension": ".py",
   "mimetype": "text/x-python",
   "name": "python",
   "nbconvert_exporter": "python",
   "pygments_lexer": "ipython2",
   "version": "2.7.12"
  }
 },
 "nbformat": 4,
 "nbformat_minor": 1
}
