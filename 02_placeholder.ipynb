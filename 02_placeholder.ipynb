{
 "cells": [
  {
   "cell_type": "code",
   "execution_count": 1,
   "metadata": {
    "collapsed": true
   },
   "outputs": [],
   "source": [
    "import tensorflow as tf"
   ]
  },
  {
   "cell_type": "code",
   "execution_count": 3,
   "metadata": {
    "collapsed": false
   },
   "outputs": [],
   "source": [
    "Scalar = tf.constant([2])\n",
    "Vector = tf.constant([5,6,2])\n",
    "Matrix = tf.constant([[1,2,3],[2,3,4],[3,4,5]])\n",
    "Tensor = tf.constant([\n",
    "                        [[1,2,3],[2,3,4],[3,4,5]],\n",
    "                        [[4,5,6],[5,6,7],[6,7,8]]\n",
    "                    ])"
   ]
  },
  {
   "cell_type": "code",
   "execution_count": 4,
   "metadata": {
    "collapsed": false
   },
   "outputs": [
    {
     "name": "stdout",
     "output_type": "stream",
     "text": [
      "Scalar:\n",
      "[2]\n",
      "\n",
      "Vector:\n",
      "[5 6 2]\n",
      "\n",
      "Matrix:\n",
      "[[1 2 3]\n",
      " [2 3 4]\n",
      " [3 4 5]]\n",
      "\n",
      "Tensor:\n",
      "[[[1 2 3]\n",
      "  [2 3 4]\n",
      "  [3 4 5]]\n",
      "\n",
      " [[4 5 6]\n",
      "  [5 6 7]\n",
      "  [6 7 8]]]\n",
      "\n"
     ]
    }
   ],
   "source": [
    "with tf.Session() as session:\n",
    "    print \"Scalar:\\n%s\\n\"%session.run(Scalar)\n",
    "    print \"Vector:\\n%s\\n\"%session.run(Vector)\n",
    "    print \"Matrix:\\n%s\\n\"%session.run(Matrix)\n",
    "    print \"Tensor:\\n%s\\n\"%session.run(Tensor)"
   ]
  },
  {
   "cell_type": "code",
   "execution_count": 8,
   "metadata": {
    "collapsed": false
   },
   "outputs": [
    {
     "name": "stdout",
     "output_type": "stream",
     "text": [
      "Scalar:\n",
      "[4]\n",
      "\n",
      "Vector:\n",
      "[10 12  4]\n",
      "\n",
      "Matrix:\n",
      "[[ 2  4  6]\n",
      " [ 4  6  8]\n",
      " [ 6  8 10]]\n",
      "\n",
      "Tensor:\n",
      "[[[ 2  4  6]\n",
      "  [ 4  6  8]\n",
      "  [ 6  8 10]]\n",
      "\n",
      " [[ 8 10 12]\n",
      "  [10 12 14]\n",
      "  [12 14 16]]]\n",
      "\n"
     ]
    }
   ],
   "source": [
    "with tf.Session() as session:\n",
    "    print \"Scalar:\\n%s\\n\"%session.run( tf.add(Scalar,Scalar))\n",
    "    print \"Vector:\\n%s\\n\"%session.run( tf.add(Vector,Vector))\n",
    "    print \"Matrix:\\n%s\\n\"%session.run( tf.add(Matrix,Matrix))\n",
    "    print \"Tensor:\\n%s\\n\"%session.run( tf.add(Tensor,Tensor))"
   ]
  },
  {
   "cell_type": "code",
   "execution_count": 9,
   "metadata": {
    "collapsed": false
   },
   "outputs": [
    {
     "name": "stdout",
     "output_type": "stream",
     "text": [
      "[[14 20 26]\n",
      " [20 29 38]\n",
      " [26 38 50]]\n"
     ]
    }
   ],
   "source": [
    "with tf.Session() as session:\n",
    "    print session.run( tf.matmul(Matrix,Matrix))"
   ]
  },
  {
   "cell_type": "code",
   "execution_count": null,
   "metadata": {
    "collapsed": true
   },
   "outputs": [],
   "source": []
  }
 ],
 "metadata": {
  "anaconda-cloud": {},
  "kernelspec": {
   "display_name": "Python [conda env:tensorflow]",
   "language": "python",
   "name": "conda-env-tensorflow-py"
  },
  "language_info": {
   "codemirror_mode": {
    "name": "ipython",
    "version": 2
   },
   "file_extension": ".py",
   "mimetype": "text/x-python",
   "name": "python",
   "nbconvert_exporter": "python",
   "pygments_lexer": "ipython2",
   "version": "2.7.12"
  }
 },
 "nbformat": 4,
 "nbformat_minor": 1
}
