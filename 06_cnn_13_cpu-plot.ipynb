{
 "cells": [
  {
   "cell_type": "code",
   "execution_count": 1,
   "metadata": {},
   "outputs": [
    {
     "name": "stdout",
     "output_type": "stream",
     "text": [
      "Extracting MNIST_data\\train-images-idx3-ubyte.gz\n",
      "Extracting MNIST_data\\train-labels-idx1-ubyte.gz\n",
      "Extracting MNIST_data\\t10k-images-idx3-ubyte.gz\n",
      "Extracting MNIST_data\\t10k-labels-idx1-ubyte.gz\n"
     ]
    }
   ],
   "source": [
    "import tensorflow as tf\n",
    "from tensorflow.examples.tutorials.mnist import input_data\n",
    "mnist=input_data.read_data_sets('MNIST_data',one_hot=True)\n",
    "width=28\n",
    "height=28\n",
    "flat=width*height\n",
    "class_output=10"
   ]
  },
  {
   "cell_type": "code",
   "execution_count": 2,
   "metadata": {
    "collapsed": true
   },
   "outputs": [],
   "source": [
    "sess=tf.InteractiveSession()\n",
    "x  =tf.placeholder(tf.float32,shape=[None,flat])\n",
    "y_ =tf.placeholder(tf.float32,shape=[None,class_output])\n",
    "\n",
    "def weight_variable(shape):\n",
    "    initial=tf.truncated_normal(shape, stddev=0.1)\n",
    "    return tf.Variable(initial)\n",
    "def bias_variable(shape):\n",
    "    initial=tf.truncated_normal(shape, stddev=0.1)\n",
    "    return tf.Variable(initial)\n",
    "\n",
    "def conv2d(x,W):\n",
    "    return tf.nn.conv2d(x,W,strides=[1,1,1,1],padding='SAME')\n",
    "\n",
    "def max_pool_2x2(x):\n",
    "    return tf.nn.max_pool(x, ksize=[1,2,2,1], strides=[1,2,2,1], padding='SAME')"
   ]
  },
  {
   "cell_type": "code",
   "execution_count": 3,
   "metadata": {
    "collapsed": true
   },
   "outputs": [],
   "source": [
    "W_conv1=weight_variable([5,5,1,32])\n",
    "b_conv1=bias_variable([32])\n",
    "x_image=tf.reshape(x,[-1,28,28,1])\n",
    "convolve1=conv2d(x_image,W_conv1)+b_conv1\n",
    "h_conv1=tf.nn.relu(convolve1)\n",
    "h_pool1=max_pool_2x2(h_conv1)\n",
    "layer1=h_pool1"
   ]
  },
  {
   "cell_type": "code",
   "execution_count": 4,
   "metadata": {
    "collapsed": true
   },
   "outputs": [],
   "source": [
    "W_conv2=weight_variable([5,5,32,64])\n",
    "b_conv2=bias_variable([64])\n",
    "convolve2=conv2d(layer1,W_conv2)+b_conv2\n",
    "h_conv2=tf.nn.relu(convolve2)\n",
    "h_pool2=max_pool_2x2(h_conv2)\n",
    "layer2=h_pool2"
   ]
  },
  {
   "cell_type": "code",
   "execution_count": 5,
   "metadata": {
    "collapsed": true
   },
   "outputs": [],
   "source": [
    "W_fc1=weight_variable([7*7*64, 1024])\n",
    "b_fc1=bias_variable([1024])\n",
    "layer2_matrix=tf.reshape(layer2,[-1,7*7*64])\n",
    "matmul_fc1=tf.matmul(layer2_matrix, W_fc1) + b_fc1\n",
    "h_fc1 = tf.nn.relu(matmul_fc1)\n",
    "layer3=h_fc1"
   ]
  },
  {
   "cell_type": "code",
   "execution_count": 6,
   "metadata": {
    "collapsed": true
   },
   "outputs": [],
   "source": [
    "keep_prob=tf.placeholder(tf.float32)\n",
    "layer3_drop=tf.nn.dropout(layer3,keep_prob)"
   ]
  },
  {
   "cell_type": "code",
   "execution_count": 7,
   "metadata": {
    "collapsed": true
   },
   "outputs": [],
   "source": [
    "W_fc2=weight_variable([1024,10])\n",
    "b_fc2=bias_variable([10])\n",
    "matmul_fc2=tf.matmul(layer3_drop,W_fc2)+b_fc2"
   ]
  },
  {
   "cell_type": "code",
   "execution_count": 8,
   "metadata": {
    "collapsed": true
   },
   "outputs": [],
   "source": [
    "y_conv=tf.nn.softmax(matmul_fc2)\n",
    "layer4=y_conv"
   ]
  },
  {
   "cell_type": "code",
   "execution_count": 9,
   "metadata": {},
   "outputs": [
    {
     "name": "stdout",
     "output_type": "stream",
     "text": [
      "WARNING:tensorflow:From C:\\Anaconda2\\envs\\tensorflow_c\\lib\\site-packages\\tensorflow\\python\\util\\tf_should_use.py:170: initialize_all_variables (from tensorflow.python.ops.variables) is deprecated and will be removed after 2017-03-02.\n",
      "Instructions for updating:\n",
      "Use `tf.global_variables_initializer` instead.\n"
     ]
    }
   ],
   "source": [
    "cross_entropy=tf.reduce_mean(-tf.reduce_sum(y_*tf.log(layer4), reduction_indices=[1]))\n",
    "train_step=tf.train.AdamOptimizer(1e-4).minimize(cross_entropy)\n",
    "\n",
    "correct_prediction=tf.equal(tf.argmax(layer4,1),tf.arg_max(y_,1))\n",
    "accuracy=tf.reduce_mean(tf.cast(correct_prediction,tf.float32))\n",
    "\n",
    "sess.run(tf.initialize_all_variables())"
   ]
  },
  {
   "cell_type": "code",
   "execution_count": 10,
   "metadata": {},
   "outputs": [
    {
     "name": "stdout",
     "output_type": "stream",
     "text": [
      "step: 0, accuracy: 0.10000000149011612\n",
      "step: 100, accuracy: 0.8799999952316284\n",
      "step: 200, accuracy: 0.9100000262260437\n",
      "step: 300, accuracy: 0.9399999976158142\n",
      "step: 400, accuracy: 0.949999988079071\n",
      "step: 500, accuracy: 0.9399999976158142\n",
      "step: 600, accuracy: 0.9700000286102295\n",
      "step: 700, accuracy: 0.9700000286102295\n",
      "step: 800, accuracy: 0.9700000286102295\n",
      "step: 900, accuracy: 0.9800000190734863\n",
      "step: 1000, accuracy: 0.9800000190734863\n"
     ]
    }
   ],
   "source": [
    "for i in range(1100):\n",
    "    batch=mnist.train.next_batch(100)\n",
    "    if i%100==0:\n",
    "        train_accuracy=accuracy.eval(feed_dict={x:batch[0], y_:batch[1], keep_prob:1.0})\n",
    "        print(\"step: {}, accuracy: {}\".format(i,float(train_accuracy)))\n",
    "    #train_step.run(feed_dict={x:batch[0], y_:batch[1], keep_prob:0.5})\n",
    "    h_train_step,h_W_conv1,h_b_conv1=sess.run([train_step,W_conv1,b_conv1],feed_dict={x:batch[0], y_:batch[1], keep_prob:0.5})"
   ]
  },
  {
   "cell_type": "code",
   "execution_count": 11,
   "metadata": {},
   "outputs": [
    {
     "data": {
      "text/plain": [
       "0.9734"
      ]
     },
     "execution_count": 11,
     "metadata": {},
     "output_type": "execute_result"
    }
   ],
   "source": [
    "accuracy.eval(feed_dict={x:mnist.test.images, y_:mnist.test.labels, keep_prob:1.0})"
   ]
  },
  {
   "cell_type": "code",
   "execution_count": 12,
   "metadata": {
    "collapsed": true
   },
   "outputs": [],
   "source": [
    "sess.close()"
   ]
  },
  {
   "cell_type": "code",
   "execution_count": 13,
   "metadata": {},
   "outputs": [],
   "source": [
    "%matplotlib inline\n",
    "from matplotlib import pyplot as plt"
   ]
  },
  {
   "cell_type": "code",
   "execution_count": 14,
   "metadata": {},
   "outputs": [
    {
     "data": {
      "text/plain": [
       "array([[[[-0.16184948, -0.08837895, -0.08877357,  0.02614399,  0.01632454,\n",
       "          -0.10215862,  0.10784236,  0.02263418,  0.00261961,  0.08226734,\n",
       "          -0.15121275,  0.16250069,  0.0721689 , -0.10790522,  0.04760463,\n",
       "           0.03279794,  0.12568279,  0.09780038,  0.03611439,  0.15748386,\n",
       "           0.03928082, -0.05184732,  0.00182927,  0.03326987, -0.00408547,\n",
       "          -0.03173674,  0.04672935, -0.06676449, -0.00472565, -0.00031183,\n",
       "           0.14467099, -0.05688465]],\n",
       "\n",
       "        [[-0.09558082, -0.00256516, -0.02277516,  0.18278697,  0.0099069 ,\n",
       "          -0.03128622,  0.02026596,  0.11949767, -0.08751547, -0.03529371,\n",
       "           0.00490678, -0.04859135, -0.11233988, -0.07796423, -0.11436452,\n",
       "           0.10311532,  0.13007626, -0.01308222, -0.03680307, -0.02149904,\n",
       "           0.11212873,  0.06485919,  0.0558784 ,  0.06396871, -0.00272436,\n",
       "          -0.10534572,  0.08500883, -0.06765714,  0.13904011, -0.03246991,\n",
       "          -0.06172682, -0.01113218]],\n",
       "\n",
       "        [[-0.11572938,  0.05732444,  0.07471298,  0.07472592, -0.07704469,\n",
       "          -0.03610607, -0.16276062, -0.08941256, -0.06888599, -0.09942053,\n",
       "           0.07224315,  0.0188218 ,  0.09835026, -0.13110545,  0.10168751,\n",
       "          -0.13950452,  0.00038874,  0.06357216,  0.04306567, -0.10521767,\n",
       "          -0.02194216,  0.08394185, -0.03080071,  0.12256661, -0.04409416,\n",
       "           0.11902826,  0.02233206,  0.03556434, -0.14982624,  0.00155841,\n",
       "           0.03131367,  0.10630244]],\n",
       "\n",
       "        [[ 0.1090977 , -0.00504191, -0.12226609, -0.04732964, -0.06613318,\n",
       "           0.00541057, -0.08472911,  0.10556452, -0.04863032,  0.10111268,\n",
       "           0.07747861, -0.11934946,  0.00196591, -0.08612844,  0.07390941,\n",
       "          -0.07558451, -0.08212342,  0.02837234, -0.09652218,  0.01797695,\n",
       "           0.12509105,  0.02977192,  0.05940324,  0.00876709,  0.03478745,\n",
       "          -0.16834295,  0.11492146, -0.06016257, -0.02258438,  0.02714241,\n",
       "           0.05944973,  0.08064008]],\n",
       "\n",
       "        [[ 0.01920682, -0.10900369,  0.00198099,  0.10526976,  0.18795563,\n",
       "           0.13921252, -0.00461109, -0.00198903,  0.07003447,  0.07871138,\n",
       "           0.03674668,  0.02493665, -0.06268385, -0.09265234,  0.02729595,\n",
       "           0.04405274, -0.02711966, -0.09747398, -0.05193599,  0.00619954,\n",
       "          -0.05839398,  0.07995731,  0.12334913, -0.16060203,  0.14106698,\n",
       "           0.04619081,  0.00449955, -0.12258699, -0.16685195,  0.03203359,\n",
       "           0.06725185, -0.00594876]]],\n",
       "\n",
       "\n",
       "       [[[-0.07008502,  0.0850066 , -0.130316  ,  0.09198322,  0.09199976,\n",
       "          -0.02908662, -0.03787911, -0.11837559, -0.1218444 , -0.04734516,\n",
       "          -0.04593652,  0.182111  , -0.16759777, -0.1476261 ,  0.02744815,\n",
       "          -0.10453615, -0.04911518, -0.05711402,  0.13301717, -0.00199976,\n",
       "           0.13962893,  0.09137357, -0.01562403,  0.1022635 ,  0.04474341,\n",
       "          -0.05271651, -0.08548377,  0.17532881, -0.08566365, -0.09501229,\n",
       "          -0.02222393,  0.00596682]],\n",
       "\n",
       "        [[ 0.00207342, -0.05367413,  0.08115361, -0.02429187,  0.08936647,\n",
       "           0.11057913, -0.04223781,  0.05794861, -0.08345345,  0.05364112,\n",
       "           0.16932245,  0.07444163, -0.05613007,  0.08274092,  0.1372215 ,\n",
       "          -0.12766553,  0.06538008,  0.03566155, -0.14127614, -0.01303546,\n",
       "          -0.00923027, -0.07277747,  0.01785626,  0.07315513,  0.07172837,\n",
       "          -0.03037451, -0.05037616,  0.04331029, -0.02563165,  0.16020808,\n",
       "          -0.01553922, -0.16127829]],\n",
       "\n",
       "        [[-0.14994214,  0.03725141, -0.06465423,  0.07687429, -0.07039796,\n",
       "          -0.06401724, -0.00785389,  0.11555412,  0.008912  , -0.07796039,\n",
       "           0.01404286,  0.06405069,  0.01086974,  0.06803223, -0.01283183,\n",
       "          -0.15884112,  0.06446811,  0.08502927,  0.06829766,  0.04520778,\n",
       "          -0.01778896, -0.13342869,  0.08432839, -0.02542737,  0.00070035,\n",
       "          -0.04730853, -0.09744283, -0.07746739,  0.11297398, -0.06018423,\n",
       "          -0.03227323,  0.09284547]],\n",
       "\n",
       "        [[ 0.05498071,  0.17320965, -0.07880439,  0.08878098, -0.04089774,\n",
       "          -0.00119382, -0.14564501, -0.04163636,  0.04533541,  0.05257226,\n",
       "           0.11318965,  0.07612462,  0.01305467, -0.14791882, -0.04846304,\n",
       "           0.01628395,  0.01423994, -0.06751555, -0.01473852, -0.07490666,\n",
       "          -0.11817628, -0.07614319,  0.01306906, -0.00602895,  0.09628259,\n",
       "          -0.14626557,  0.01054076,  0.05198414, -0.0192601 , -0.19123821,\n",
       "          -0.04341775,  0.11211751]],\n",
       "\n",
       "        [[-0.0767251 , -0.03672649,  0.04282163, -0.02140642, -0.03846605,\n",
       "           0.10640632,  0.08485396,  0.13217741,  0.0095144 ,  0.00095674,\n",
       "          -0.00979823, -0.09101824, -0.15917882,  0.0196835 ,  0.02923192,\n",
       "          -0.11555216, -0.01317756, -0.09672533, -0.07192642, -0.12288978,\n",
       "           0.16137621,  0.05330739,  0.15083595,  0.0340904 , -0.00439062,\n",
       "           0.13966033, -0.11716139,  0.0698299 ,  0.07528619, -0.08386416,\n",
       "           0.13307807, -0.10063101]]],\n",
       "\n",
       "\n",
       "       [[[-0.010481  , -0.01915858,  0.03547732, -0.00502157, -0.0690417 ,\n",
       "           0.05074978,  0.11228732,  0.10536467,  0.17647012, -0.12627684,\n",
       "          -0.01757839, -0.11349443,  0.01291488, -0.17047283, -0.07927904,\n",
       "          -0.1462727 ,  0.01902511,  0.00664843,  0.08041594,  0.0680832 ,\n",
       "          -0.05907708, -0.00086326,  0.10073732,  0.06240464,  0.07274741,\n",
       "           0.15036541, -0.08872851, -0.06578048, -0.10508148,  0.02153438,\n",
       "           0.00364751,  0.01256897]],\n",
       "\n",
       "        [[-0.08750644, -0.07087725,  0.0246059 ,  0.06803521, -0.12597886,\n",
       "          -0.1592602 , -0.01428864, -0.04003705, -0.0168719 , -0.05306561,\n",
       "           0.17757951,  0.03278531,  0.1434214 ,  0.10125453, -0.03076261,\n",
       "          -0.08997408,  0.07208179, -0.01726308, -0.16250832, -0.1321836 ,\n",
       "          -0.01566467,  0.12682545,  0.16285628,  0.02325178, -0.02359523,\n",
       "           0.1769322 , -0.07407325,  0.08897852,  0.0085016 ,  0.0564863 ,\n",
       "          -0.16919932,  0.09344032]],\n",
       "\n",
       "        [[-0.06311364, -0.10850506, -0.03256456, -0.05431809,  0.03928753,\n",
       "          -0.01254357, -0.10114711,  0.05724588,  0.19157666,  0.05666111,\n",
       "           0.17068376, -0.06280543, -0.05866887, -0.03023999, -0.05469415,\n",
       "          -0.01732024, -0.0420111 , -0.10795732,  0.0333889 ,  0.06611624,\n",
       "          -0.14515133, -0.03607659,  0.18294686, -0.06120165, -0.03520887,\n",
       "          -0.04158924, -0.17171496,  0.05144072, -0.0621194 ,  0.00702615,\n",
       "          -0.13651945,  0.07265775]],\n",
       "\n",
       "        [[ 0.19315098, -0.05652415, -0.11219573,  0.07037044, -0.04299905,\n",
       "           0.02791806,  0.02345369,  0.01890933, -0.05409494, -0.02272228,\n",
       "           0.19267538, -0.00785561,  0.07984434, -0.06822257, -0.06466939,\n",
       "          -0.00034804,  0.10129532,  0.16693196, -0.04116448, -0.15308529,\n",
       "          -0.16224273,  0.02924171,  0.13154736, -0.1197839 ,  0.01302782,\n",
       "           0.05733976, -0.12046663,  0.04119911, -0.08200973, -0.00029499,\n",
       "          -0.02664607,  0.00212889]],\n",
       "\n",
       "        [[-0.04592095,  0.05818366, -0.08448126, -0.00624247,  0.09474497,\n",
       "           0.06742938,  0.03994566, -0.08761569,  0.1451901 ,  0.14128298,\n",
       "           0.01172124,  0.06498904, -0.07723166,  0.0257979 , -0.10163943,\n",
       "           0.09111618,  0.09148984, -0.15959123,  0.14236857,  0.03310495,\n",
       "           0.11479389, -0.09047772,  0.12673731,  0.11568023,  0.09435239,\n",
       "           0.1627122 ,  0.02223791, -0.00064364, -0.13616426,  0.11883951,\n",
       "          -0.03297929,  0.13131097]]],\n",
       "\n",
       "\n",
       "       [[[ 0.08905067, -0.04014906, -0.19559745,  0.08882155,  0.02000148,\n",
       "           0.01472292,  0.09541821, -0.07803785, -0.04298487, -0.01600483,\n",
       "           0.03386859, -0.06590208, -0.01452424,  0.00766968,  0.03637022,\n",
       "           0.04846367, -0.0441315 , -0.04165092,  0.02607656, -0.02777446,\n",
       "           0.03237439,  0.11781613,  0.1012838 ,  0.08141506,  0.03265733,\n",
       "           0.05145434,  0.01213551,  0.04188591, -0.06946864,  0.04166712,\n",
       "           0.07117233,  0.13101299]],\n",
       "\n",
       "        [[ 0.1321305 , -0.01931898,  0.07826393, -0.02089512, -0.04740734,\n",
       "          -0.03988097,  0.02577398, -0.1152235 ,  0.01677421,  0.00548269,\n",
       "           0.02677794, -0.09258137, -0.14880361, -0.18843693, -0.07610332,\n",
       "           0.09850734,  0.12485144,  0.07860882, -0.06538329,  0.05235354,\n",
       "           0.03534033,  0.19812469,  0.06821079, -0.00475263, -0.02410804,\n",
       "          -0.00932786, -0.04177724,  0.02509197, -0.02579471, -0.03943877,\n",
       "          -0.00896016, -0.05928406]],\n",
       "\n",
       "        [[ 0.01344093,  0.05816004, -0.10854492, -0.05130535,  0.11045364,\n",
       "          -0.08760358, -0.05663934, -0.0699745 ,  0.00097235,  0.09965413,\n",
       "           0.14587487, -0.12401973, -0.13637227,  0.07210664, -0.08873545,\n",
       "           0.13123474,  0.06907641,  0.17014103,  0.08359175, -0.16808991,\n",
       "           0.01967894,  0.16396447, -0.13561431,  0.11863135, -0.07887348,\n",
       "           0.04712812, -0.06000653,  0.02761402, -0.08483361, -0.12290034,\n",
       "          -0.00450011, -0.07772711]],\n",
       "\n",
       "        [[ 0.03724568, -0.14161472, -0.1400336 ,  0.03600771, -0.02040463,\n",
       "           0.05238738,  0.10562235, -0.0168772 , -0.00350271,  0.08820453,\n",
       "          -0.12741947,  0.00497479,  0.00647956,  0.0906055 , -0.03598088,\n",
       "          -0.10634573, -0.01962296,  0.13759042,  0.12233251, -0.04975502,\n",
       "           0.04775305, -0.03141484,  0.02354036, -0.01129463, -0.07323801,\n",
       "          -0.046125  , -0.01205822, -0.14477022,  0.07557918, -0.18193007,\n",
       "          -0.01449917, -0.00239428]],\n",
       "\n",
       "        [[-0.05313993,  0.01908352,  0.0861366 , -0.03925373,  0.0476566 ,\n",
       "          -0.0789356 ,  0.16577034,  0.00631022,  0.09797336,  0.11153764,\n",
       "          -0.00852444, -0.14526577, -0.05851868,  0.07016686, -0.0369365 ,\n",
       "           0.01451134, -0.04614653,  0.13750824,  0.05123897,  0.00707497,\n",
       "           0.13642067, -0.12620442,  0.00549767, -0.1081476 , -0.00484767,\n",
       "           0.07362432,  0.06029901, -0.01278109, -0.0214248 ,  0.03420994,\n",
       "           0.1747922 ,  0.07871916]]],\n",
       "\n",
       "\n",
       "       [[[-0.13347769,  0.11015169, -0.02263703, -0.00616404, -0.00484101,\n",
       "           0.03401505, -0.0500789 ,  0.04798359,  0.08398384, -0.03249948,\n",
       "          -0.02326135,  0.02891512, -0.01534242, -0.09082962, -0.15540811,\n",
       "          -0.01002798, -0.15510596, -0.03380385, -0.15403806,  0.04453392,\n",
       "           0.15340205, -0.05755198,  0.06705599, -0.03266543, -0.04719662,\n",
       "          -0.00770455, -0.03077856, -0.19308253,  0.07722007,  0.10463928,\n",
       "          -0.11018166, -0.02685581]],\n",
       "\n",
       "        [[-0.05433999,  0.04733807,  0.0394395 , -0.0335344 ,  0.08370936,\n",
       "           0.15152434,  0.08353242,  0.03622906,  0.01744997, -0.00183467,\n",
       "          -0.03599324,  0.01363615,  0.05408253, -0.05660615, -0.01192152,\n",
       "           0.05496701, -0.13928883, -0.18613514,  0.10633146, -0.08419447,\n",
       "           0.06353859, -0.03272016,  0.03841427,  0.14413574, -0.01182023,\n",
       "          -0.1282067 , -0.01670168, -0.02638159, -0.02430058,  0.06583334,\n",
       "          -0.06646925, -0.1160882 ]],\n",
       "\n",
       "        [[-0.00905663, -0.01155281, -0.08056318,  0.06480067, -0.043071  ,\n",
       "          -0.08010746, -0.08054549, -0.07325546, -0.04978513,  0.01420247,\n",
       "          -0.02700057, -0.00038853, -0.00873174,  0.18037905, -0.10432611,\n",
       "           0.1017575 , -0.08254277,  0.0386209 ,  0.02200596,  0.07231295,\n",
       "          -0.00065624,  0.068257  , -0.1304211 , -0.04766411,  0.07234722,\n",
       "          -0.14451362, -0.10955725, -0.03216003,  0.03155629, -0.04112238,\n",
       "          -0.09144796, -0.10668968]],\n",
       "\n",
       "        [[ 0.00479319,  0.11319698,  0.1264326 , -0.12848975, -0.02069957,\n",
       "           0.03007857, -0.12511419,  0.08335217,  0.03243776,  0.06781024,\n",
       "           0.12578338,  0.15306072,  0.17524366,  0.07422865,  0.04261615,\n",
       "           0.07744362, -0.09569498, -0.02997966, -0.03993148, -0.01250038,\n",
       "          -0.06354336,  0.15714192, -0.17397787, -0.07426904,  0.02956363,\n",
       "          -0.09947595,  0.04487887,  0.05061675,  0.00371863,  0.01137641,\n",
       "          -0.00230534, -0.09573203]],\n",
       "\n",
       "        [[-0.1357476 ,  0.14431338, -0.08202757,  0.14129359,  0.07758285,\n",
       "          -0.03020651, -0.00791433, -0.0225829 , -0.04432232, -0.14394486,\n",
       "           0.06307342,  0.12522456,  0.07344478, -0.09281255,  0.05101705,\n",
       "           0.08118669,  0.00031893, -0.0340521 , -0.1103117 ,  0.01631567,\n",
       "          -0.00661478, -0.07791568, -0.03882274,  0.06332038,  0.00447727,\n",
       "          -0.11671966,  0.0429556 ,  0.01697741,  0.08993971,  0.11279368,\n",
       "           0.03602081, -0.05957436]]]], dtype=float32)"
      ]
     },
     "execution_count": 14,
     "metadata": {},
     "output_type": "execute_result"
    }
   ],
   "source": [
    "h_W_conv1"
   ]
  },
  {
   "cell_type": "code",
   "execution_count": 15,
   "metadata": {},
   "outputs": [
    {
     "data": {
      "image/png": "[encoded data removed]",
      "text/plain": [
       "<matplotlib.figure.Figure at 0x1d280dc9128>"
      ]
     },
     "metadata": {},
     "output_type": "display_data"
    }
   ],
   "source": [
    "for i in range(1,4*8+1):\n",
    "        plt.subplot(4, 8, i)\n",
    "        #plt.xlabel()\n",
    "        #plt.ylabel()\n",
    "        plt.imshow(h_W_conv1[:,:,0,i-1]+h_b_conv1[i-1],cmap=\"gray\")"
   ]
  },
  {
   "cell_type": "code",
   "execution_count": 16,
   "metadata": {},
   "outputs": [
    {
     "data": {
      "text/plain": [
       "32"
      ]
     },
     "execution_count": 16,
     "metadata": {},
     "output_type": "execute_result"
    }
   ],
   "source": [
    "i"
   ]
  },
  {
   "cell_type": "code",
   "execution_count": null,
   "metadata": {
    "collapsed": true
   },
   "outputs": [],
   "source": []
  }
 ],
 "metadata": {
  "kernelspec": {
   "display_name": "Python [conda env:tensorflow_c]",
   "language": "python",
   "name": "conda-env-tensorflow_c-py"
  },
  "language_info": {
   "codemirror_mode": {
    "name": "ipython",
    "version": 3
   },
   "file_extension": ".py",
   "mimetype": "text/x-python",
   "name": "python",
   "nbconvert_exporter": "python",
   "pygments_lexer": "ipython3",
   "version": "3.6.2"
  }
 },
 "nbformat": 4,
 "nbformat_minor": 1
}
